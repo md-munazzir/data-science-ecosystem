{
 "cells": [
  {
   "cell_type": "markdown",
   "id": "ba4fe592-bc96-40e4-92a8-05b987483bb4",
   "metadata": {},
   "source": [
    "# Data Science Tools and Ecosystems"
   ]
  },
  {
   "cell_type": "markdown",
   "id": "9159857e-f4e3-441a-82f0-fe1653feac26",
   "metadata": {},
   "source": [
    "## Author:\n",
    "Mohammad Munazzir Alam"
   ]
  },
  {
   "cell_type": "markdown",
   "id": "82d9c070-7bbc-4af6-ae9f-0766b8848817",
   "metadata": {},
   "source": [
    "In this notebook, Data Science Tools and Ecosystems are summarized"
   ]
  },
  {
   "cell_type": "markdown",
   "id": "c4e024f8-f63e-4c0e-8466-2c1740f859bd",
   "metadata": {},
   "source": [
    "**Objectives**\n",
    "- List the Popular Languages in Data Science\n",
    "- List the commonly used libraries that Data Scientists use\n",
    "- Data Science tools\n",
    "- Evaluating the Arithmetic Expressions "
   ]
  },
  {
   "cell_type": "markdown",
   "id": "4033c831-bb1f-4c4d-882f-662d7d2b0afb",
   "metadata": {},
   "source": [
    "Some of the popular langauges that Data Scientists used are:\n",
    "1. Python\n",
    "2. R\n",
    "3. Scala\n",
    "4. SQL"
   ]
  },
  {
   "cell_type": "markdown",
   "id": "7d2b3c3d-3e50-439e-8616-715573876303",
   "metadata": {},
   "source": [
    "Some of the commonly used libraries used by Data Scientists includes:\n",
    "1. Numpy\n",
    "2. Pandas\n",
    "3. Scikit Learn\n",
    "4. Seaborn\n",
    "5. Pytorch"
   ]
  },
  {
   "cell_type": "markdown",
   "id": "e99d38f3-969a-46be-b822-cf2d4befd871",
   "metadata": {},
   "source": [
    "| Data Science Tools |\n",
    "|--------------------|\n",
    "|Jupyter|\n",
    "|RStudio|\n",
    "|Spyder|\n"
   ]
  },
  {
   "cell_type": "markdown",
   "id": "c3135ded-b3cb-4a6a-9b9a-3d7a0be8af00",
   "metadata": {},
   "source": [
    "### Below are the few examples of evaluating arithmetic expressions in python"
   ]
  },
  {
   "cell_type": "code",
   "execution_count": 1,
   "id": "b50f02f0-3aaf-4070-be81-2569d9ce7135",
   "metadata": {},
   "outputs": [
    {
     "data": {
      "text/plain": [
       "17"
      ]
     },
     "execution_count": 1,
     "metadata": {},
     "output_type": "execute_result"
    }
   ],
   "source": [
    "# This is a simple arithmetic expression to multiply and then add integers\n",
    "(3*4)+5"
   ]
  },
  {
   "cell_type": "code",
   "execution_count": 3,
   "id": "51e3ce48-0056-48a3-bf64-cfccb7f824d3",
   "metadata": {},
   "outputs": [
    {
     "data": {
      "text/plain": [
       "3.3333333333333335"
      ]
     },
     "execution_count": 3,
     "metadata": {},
     "output_type": "execute_result"
    }
   ],
   "source": [
    "# This will convert 200 minutes to hours by dividing by 60\n",
    "minutes = 200\n",
    "hours = 200/60\n",
    "hours"
   ]
  }
 ],
 "metadata": {
  "kernelspec": {
   "display_name": "Python 3 (ipykernel)",
   "language": "python",
   "name": "python3"
  },
  "language_info": {
   "codemirror_mode": {
    "name": "ipython",
    "version": 3
   },
   "file_extension": ".py",
   "mimetype": "text/x-python",
   "name": "python",
   "nbconvert_exporter": "python",
   "pygments_lexer": "ipython3",
   "version": "3.13.5"
  }
 },
 "nbformat": 4,
 "nbformat_minor": 5
}
